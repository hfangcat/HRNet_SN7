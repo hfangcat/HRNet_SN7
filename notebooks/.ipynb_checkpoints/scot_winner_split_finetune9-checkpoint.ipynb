{
 "cells": [
  {
   "cell_type": "markdown",
   "id": "creative-journalist",
   "metadata": {},
   "source": [
    "# Evaluation Metrics: SCOT"
   ]
  },
  {
   "cell_type": "code",
   "execution_count": null,
   "id": "flexible-tours",
   "metadata": {},
   "outputs": [],
   "source": [
    "from shapely.ops import cascaded_union\n",
    "import matplotlib.pyplot as plt\n",
    "import geopandas as gpd\n",
    "import multiprocessing\n",
    "import pandas as pd\n",
    "import numpy as np\n",
    "import skimage.io\n",
    "import tqdm\n",
    "import glob\n",
    "import math\n",
    "import gdal\n",
    "import time\n",
    "import sys\n",
    "import os\n",
    "import geopandas as gpd\n",
    "from shapely import wkt\n",
    "\n",
    "import matplotlib.pyplot as plt\n",
    "plt.rcParams.update({'font.size': 16})\n",
    "import matplotlib as mpl\n",
    "mpl.rcParams['figure.dpi'] = 300\n",
    "import matplotlib\n",
    "# matplotlib.use('Agg') # non-interactive\n",
    "\n",
    "import solaris as sol\n",
    "from solaris.utils.core import _check_gdf_load\n",
    "from solaris.raster.image import create_multiband_geotiff \n",
    "\n",
    "# import from data_postproc_funcs\n",
    "module_path = os.path.abspath(os.path.join('../src/'))\n",
    "if module_path not in sys.path:\n",
    "    sys.path.append(module_path)\n",
    "from sn7_baseline_postproc_funcs import map_wrapper, multithread_polys, \\\n",
    "        calculate_iou, track_footprint_identifiers, \\\n",
    "        sn7_convert_geojsons_to_csv\n",
    "import solaris.eval.scot as scot"
   ]
  },
  {
   "cell_type": "code",
   "execution_count": null,
   "id": "banned-spine",
   "metadata": {},
   "outputs": [],
   "source": [
    "ground_truth = pd.read_csv('/Midgard/home/hfang/temporal_CD/HRNet_SN7_csv/ground_truth.csv')\n",
    "aois = [z.split('mosaic_')[-1] for z in ground_truth['filename'].values]\n",
    "ground_truth['aoi'] = aois\n",
    "timesteps = [z.split('monthly_')[-1].split('_mosaic')[0] for z in ground_truth['filename'].values]\n",
    "ground_truth['timestep'] = timesteps\n",
    "ground_truth = ground_truth.drop('filename', 1)"
   ]
  },
  {
   "cell_type": "code",
   "execution_count": null,
   "id": "organizational-george",
   "metadata": {},
   "outputs": [],
   "source": [
    "ground_truth.head()"
   ]
  },
  {
   "cell_type": "code",
   "execution_count": null,
   "id": "ignored-sacramento",
   "metadata": {},
   "outputs": [],
   "source": [
    "ground_truth['geometry'] = ground_truth['geometry'].apply(wkt.loads)\n",
    "gdf = gpd.GeoDataFrame(ground_truth, geometry = 'geometry')\n",
    "print(gdf)"
   ]
  },
  {
   "cell_type": "code",
   "execution_count": null,
   "id": "received-result",
   "metadata": {},
   "outputs": [],
   "source": [
    "pred = pd.read_csv('/Midgard/home/hfang/temporal_CD/HRNet_SN7_csv/submission_hrnet_finetune9.csv')\n",
    "aois = [z.split('mosaic_')[-1] for z in pred['filename'].values]\n",
    "pred['aoi'] = aois\n",
    "timesteps = [z.split('monthly_')[-1].split('_mosaic')[0] for z in pred['filename'].values]\n",
    "pred['timestep'] = timesteps\n",
    "pred = pred.drop('filename', 1)"
   ]
  },
  {
   "cell_type": "code",
   "execution_count": null,
   "id": "agricultural-piece",
   "metadata": {},
   "outputs": [],
   "source": [
    "pred.head()"
   ]
  },
  {
   "cell_type": "code",
   "execution_count": null,
   "id": "premium-welcome",
   "metadata": {},
   "outputs": [],
   "source": [
    "pred['geometry'] = pred['geometry'].apply(wkt.loads)\n",
    "pdf = gpd.GeoDataFrame(pred, geometry = 'geometry')\n",
    "print(pdf)"
   ]
  },
  {
   "cell_type": "code",
   "execution_count": null,
   "id": "interpreted-communist",
   "metadata": {},
   "outputs": [],
   "source": [
    "scot.scot_multi_aoi(gdf, pdf, verbose=True)"
   ]
  },
  {
   "cell_type": "code",
   "execution_count": null,
   "id": "aboriginal-crowd",
   "metadata": {},
   "outputs": [],
   "source": []
  }
 ],
 "metadata": {
  "kernelspec": {
   "display_name": "Python 3",
   "language": "python",
   "name": "python3"
  },
  "language_info": {
   "codemirror_mode": {
    "name": "ipython",
    "version": 3
   },
   "file_extension": ".py",
   "mimetype": "text/x-python",
   "name": "python",
   "nbconvert_exporter": "python",
   "pygments_lexer": "ipython3",
   "version": "3.7.8"
  }
 },
 "nbformat": 4,
 "nbformat_minor": 5
}
