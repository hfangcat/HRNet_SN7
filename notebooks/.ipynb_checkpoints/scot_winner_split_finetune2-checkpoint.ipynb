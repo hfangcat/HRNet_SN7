{
 "cells": [
  {
   "cell_type": "markdown",
   "id": "interstate-huntington",
   "metadata": {},
   "source": [
    "# Evaluation Metrics: SCOT"
   ]
  },
  {
   "cell_type": "code",
   "execution_count": null,
   "id": "insured-addiction",
   "metadata": {},
   "outputs": [
    {
     "name": "stderr",
     "output_type": "stream",
     "text": [
      "/Midgard/home/hfang/miniconda3/envs/solaris/lib/python3.7/site-packages/tensorflow/python/framework/dtypes.py:526: FutureWarning: Passing (type, 1) or '1type' as a synonym of type is deprecated; in a future version of numpy, it will be understood as (type, (1,)) / '(1,)type'.\n",
      "  _np_qint8 = np.dtype([(\"qint8\", np.int8, 1)])\n",
      "/Midgard/home/hfang/miniconda3/envs/solaris/lib/python3.7/site-packages/tensorflow/python/framework/dtypes.py:527: FutureWarning: Passing (type, 1) or '1type' as a synonym of type is deprecated; in a future version of numpy, it will be understood as (type, (1,)) / '(1,)type'.\n",
      "  _np_quint8 = np.dtype([(\"quint8\", np.uint8, 1)])\n",
      "/Midgard/home/hfang/miniconda3/envs/solaris/lib/python3.7/site-packages/tensorflow/python/framework/dtypes.py:528: FutureWarning: Passing (type, 1) or '1type' as a synonym of type is deprecated; in a future version of numpy, it will be understood as (type, (1,)) / '(1,)type'.\n",
      "  _np_qint16 = np.dtype([(\"qint16\", np.int16, 1)])\n",
      "/Midgard/home/hfang/miniconda3/envs/solaris/lib/python3.7/site-packages/tensorflow/python/framework/dtypes.py:529: FutureWarning: Passing (type, 1) or '1type' as a synonym of type is deprecated; in a future version of numpy, it will be understood as (type, (1,)) / '(1,)type'.\n",
      "  _np_quint16 = np.dtype([(\"quint16\", np.uint16, 1)])\n",
      "/Midgard/home/hfang/miniconda3/envs/solaris/lib/python3.7/site-packages/tensorflow/python/framework/dtypes.py:530: FutureWarning: Passing (type, 1) or '1type' as a synonym of type is deprecated; in a future version of numpy, it will be understood as (type, (1,)) / '(1,)type'.\n",
      "  _np_qint32 = np.dtype([(\"qint32\", np.int32, 1)])\n",
      "/Midgard/home/hfang/miniconda3/envs/solaris/lib/python3.7/site-packages/tensorflow/python/framework/dtypes.py:535: FutureWarning: Passing (type, 1) or '1type' as a synonym of type is deprecated; in a future version of numpy, it will be understood as (type, (1,)) / '(1,)type'.\n",
      "  np_resource = np.dtype([(\"resource\", np.ubyte, 1)])\n"
     ]
    }
   ],
   "source": [
    "from shapely.ops import cascaded_union\n",
    "import matplotlib.pyplot as plt\n",
    "import geopandas as gpd\n",
    "import multiprocessing\n",
    "import pandas as pd\n",
    "import numpy as np\n",
    "import skimage.io\n",
    "import tqdm\n",
    "import glob\n",
    "import math\n",
    "import gdal\n",
    "import time\n",
    "import sys\n",
    "import os\n",
    "import geopandas as gpd\n",
    "from shapely import wkt\n",
    "\n",
    "import matplotlib.pyplot as plt\n",
    "plt.rcParams.update({'font.size': 16})\n",
    "import matplotlib as mpl\n",
    "mpl.rcParams['figure.dpi'] = 300\n",
    "import matplotlib\n",
    "# matplotlib.use('Agg') # non-interactive\n",
    "\n",
    "import solaris as sol\n",
    "from solaris.utils.core import _check_gdf_load\n",
    "from solaris.raster.image import create_multiband_geotiff \n",
    "\n",
    "# import from data_postproc_funcs\n",
    "module_path = os.path.abspath(os.path.join('../src/'))\n",
    "if module_path not in sys.path:\n",
    "    sys.path.append(module_path)\n",
    "from sn7_baseline_postproc_funcs import map_wrapper, multithread_polys, \\\n",
    "        calculate_iou, track_footprint_identifiers, \\\n",
    "        sn7_convert_geojsons_to_csv\n",
    "import solaris.eval.scot as scot"
   ]
  },
  {
   "cell_type": "code",
   "execution_count": null,
   "id": "acquired-makeup",
   "metadata": {},
   "outputs": [],
   "source": [
    "ground_truth = pd.read_csv('/Midgard/home/hfang/temporal_CD/HRNet_SN7_csv/ground_truth.csv')\n",
    "aois = [z.split('mosaic_')[-1] for z in ground_truth['filename'].values]\n",
    "ground_truth['aoi'] = aois\n",
    "timesteps = [z.split('monthly_')[-1].split('_mosaic')[0] for z in ground_truth['filename'].values]\n",
    "ground_truth['timestep'] = timesteps\n",
    "ground_truth = ground_truth.drop('filename', 1)"
   ]
  },
  {
   "cell_type": "code",
   "execution_count": null,
   "id": "stylish-marine",
   "metadata": {},
   "outputs": [],
   "source": [
    "ground_truth.head()"
   ]
  },
  {
   "cell_type": "code",
   "execution_count": null,
   "id": "exotic-stable",
   "metadata": {},
   "outputs": [],
   "source": [
    "ground_truth['geometry'] = ground_truth['geometry'].apply(wkt.loads)\n",
    "gdf = gpd.GeoDataFrame(ground_truth, geometry = 'geometry')\n",
    "print(gdf)"
   ]
  },
  {
   "cell_type": "code",
   "execution_count": null,
   "id": "adolescent-stanford",
   "metadata": {},
   "outputs": [],
   "source": [
    "pred = pd.read_csv('/Midgard/home/hfang/temporal_CD/HRNet_SN7_csv/submission_hrnet_finetune2.csv')\n",
    "aois = [z.split('mosaic_')[-1] for z in pred['filename'].values]\n",
    "pred['aoi'] = aois\n",
    "timesteps = [z.split('monthly_')[-1].split('_mosaic')[0] for z in pred['filename'].values]\n",
    "pred['timestep'] = timesteps\n",
    "pred = pred.drop('filename', 1)"
   ]
  },
  {
   "cell_type": "code",
   "execution_count": null,
   "id": "regular-magnitude",
   "metadata": {},
   "outputs": [],
   "source": [
    "pred.head()"
   ]
  },
  {
   "cell_type": "code",
   "execution_count": null,
   "id": "mechanical-probability",
   "metadata": {},
   "outputs": [],
   "source": [
    "pred['geometry'] = pred['geometry'].apply(wkt.loads)\n",
    "pdf = gpd.GeoDataFrame(pred, geometry = 'geometry')\n",
    "print(pdf)"
   ]
  },
  {
   "cell_type": "code",
   "execution_count": null,
   "id": "automated-dairy",
   "metadata": {},
   "outputs": [],
   "source": [
    "scot.scot_multi_aoi(gdf, pdf, verbose=True)"
   ]
  },
  {
   "cell_type": "code",
   "execution_count": null,
   "id": "joint-pledge",
   "metadata": {},
   "outputs": [],
   "source": []
  }
 ],
 "metadata": {
  "kernelspec": {
   "display_name": "Python 3",
   "language": "python",
   "name": "python3"
  },
  "language_info": {
   "codemirror_mode": {
    "name": "ipython",
    "version": 3
   },
   "file_extension": ".py",
   "mimetype": "text/x-python",
   "name": "python",
   "nbconvert_exporter": "python",
   "pygments_lexer": "ipython3",
   "version": "3.7.8"
  }
 },
 "nbformat": 4,
 "nbformat_minor": 5
}
